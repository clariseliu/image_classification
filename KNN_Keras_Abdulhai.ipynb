{
 "cells": [
  {
   "cell_type": "code",
   "execution_count": 2,
   "metadata": {},
   "outputs": [
    {
     "name": "stderr",
     "output_type": "stream",
     "text": [
      "Using TensorFlow backend.\n"
     ]
    }
   ],
   "source": [
    "import keras\n",
    "import numpy as np\n",
    "from keras.utils import np_utils\n",
    "from keras.datasets import cifar10\n",
    "import matplotlib.pyplot as plt\n",
    "import pandas as pd"
   ]
  },
  {
   "cell_type": "code",
   "execution_count": 3,
   "metadata": {},
   "outputs": [],
   "source": [
    "def pre_process_data(num_train=50000, num_test=10000):\n",
    "    \"\"\" Loads the dataset with the desired \n",
    "        number of training and testing data.\n",
    "\n",
    "        Parameters\n",
    "        ----------\n",
    "        num_train : the number of training data\n",
    "        \n",
    "        num_test : the number of testing data\n",
    "    \"\"\"\n",
    "\n",
    "    (X_train, y_train), (X_test, y_test) = cifar10.load_data()\n",
    "\n",
    "    X_train = X_train.astype('float32')\n",
    "    X_test = X_test.astype('float32')\n",
    "    \n",
    "    y_train = np.asarray([array[0] for array in y_train]).astype('float32')\n",
    "    y_test = np.asarray([array[0] for array in y_test]).astype('float32')\n",
    "    \n",
    "    X_train, y_train = X_train[:num_train], y_train[:num_train]\n",
    "    X_test, y_test = X_test[:num_test], y_test[:num_test]\n",
    "    \n",
    "    X_train = np.reshape(X_train, (X_train.shape[0], -1))\n",
    "    X_test = np.reshape(X_test, (X_test.shape[0], -1))\n",
    "    \n",
    "    return X_train, y_train, X_test, y_test"
   ]
  },
  {
   "cell_type": "code",
   "execution_count": 4,
   "metadata": {},
   "outputs": [
    {
     "name": "stdout",
     "output_type": "stream",
     "text": [
      "Training data shape:  (50000, 3072)\n",
      "Training labels shape:  (50000,)\n",
      "Testing data shape:  (10000, 3072)\n",
      "Testing labels shape:  (10000,)\n",
      "\n",
      "\n",
      "data type: float32\n",
      "label type: float32\n"
     ]
    }
   ],
   "source": [
    "# Dimensions of training and testing data\n",
    "print(\"Training data shape: \", X_train.shape)\n",
    "print(\"Training labels shape: \", y_train.shape)\n",
    "print(\"Testing data shape: \", X_test.shape)\n",
    "print(\"Testing labels shape: \", y_test.shape)\n",
    "print('\\n')\n",
    "print('data type: {}'.format(X_train.dtype))\n",
    "print('label type: {}'.format(y_train.dtype))"
   ]
  },
  {
   "cell_type": "code",
   "execution_count": 5,
   "metadata": {},
   "outputs": [],
   "source": [
    "def train(X_train, y_train):\n",
    "    \"\"\" Trains the model on the training data.\n",
    "    \"\"\"\n",
    "    # Here training means memorization of data which has already been done.\n",
    "    return"
   ]
  },
  {
   "cell_type": "code",
   "execution_count": 6,
   "metadata": {},
   "outputs": [],
   "source": [
    "def compute_distances(x, y):\n",
    "    \"\"\" Computes the L2 distance between each row \n",
    "        in `x` and `y`.\n",
    "\n",
    "        Parameters\n",
    "        ----------\n",
    "        x : numpy.ndarray\n",
    "            x.shape must be (M, D)\n",
    "            Each row of `x` is a flattened vector representing the pixel \n",
    "            values of a single image. Thus `x` represents\n",
    "            M images, each one described by a length-D vector.\n",
    "\n",
    "        y : numpy.ndarray\n",
    "            y.shape must be (N, D)\n",
    "            Each row of `y` is a flattened vector representing the pixel \n",
    "            values of a single image. Thus `y` represents\n",
    "            N images, each one described by a length-D vector.\n",
    "\n",
    "        Returns\n",
    "        -------\n",
    "        distances : numpy.ndarray\n",
    "            distances.shape = (M, N)\n",
    "            distances[i, j] = the L2 distance between x[i] and y[j]\n",
    "    \"\"\"\n",
    "    xSumSquare = np.sum(np.square(x),axis=1);\n",
    "    ySumSquare = np.sum(np.square(y),axis=1);\n",
    "    mul = np.dot(x,y.T);\n",
    "    dists = np.sqrt(xSumSquare[:,np.newaxis]+ySumSquare-2*mul)\n",
    "    return dists"
   ]
  },
  {
   "cell_type": "code",
   "execution_count": 7,
   "metadata": {},
   "outputs": [],
   "source": [
    "def predict(dists, labels, k):\n",
    "    \"\"\" Given a shape-(M, N) array of distances between M-unlabeled \n",
    "        and N-labeled images, and N labels, predicts a label for each \n",
    "        of the M images based on its k-nearest neighbors.\n",
    "\n",
    "        Parameters\n",
    "        ----------\n",
    "        dists : numpy.ndarray\n",
    "            `dists.shape` must be (M, N) where M is the number of\n",
    "            examples you wish to predict labels for, and N is \n",
    "            the number of labeled images used in the prediction\n",
    "        \n",
    "        labels : numpy.ndarray\n",
    "            A shape-(N,) array of class-IDs, of labels for the N images.    \n",
    "\n",
    "        Returns\n",
    "        -------\n",
    "        y_pred : numpy.array`\n",
    "            A shape-(M,) array of class-IDs, as predicted by the k-nearest\n",
    "            neighbors.\n",
    "    \"\"\"\n",
    "    mins = np.argsort(dists, axis= 1)[:,:k]\n",
    "    labs = np.array([labels[mins[i,j]] for i in range(np.shape(mins)[0]) for j in range(np.shape(mins)[1])]).reshape(np.shape(mins)[0],np.shape(mins)[1])\n",
    "\n",
    "    x = np.array([])\n",
    "    for i in range(np.shape(labs)[0]):\n",
    "        if len(set(labs[i])) == 1:\n",
    "            x = np.append(x, labs[i][0])\n",
    "        elif len(set(labs[i])) == len(labs[i]):\n",
    "            x = np.append(x, min(set(labs[i])))\n",
    "        elif len(set(labs[i])) < len((labs[i])):\n",
    "            arr = np.array((np.unique(labs[i], return_counts=True))).T.tolist()\n",
    "            arr = sorted(arr, key=lambda x: x[1], reverse = True)\n",
    "            x = np.append(x, arr[0][0])\n",
    "    x = x.astype(int)\n",
    "    \n",
    "    return x"
   ]
  },
  {
   "cell_type": "code",
   "execution_count": 8,
   "metadata": {},
   "outputs": [],
   "source": [
    "def k_nearest_neighbor(X_train, y_train, X_test, k):\n",
    "\n",
    "    train(X_train, y_train)\n",
    "\n",
    "    dists = compute_distances(X_test, X_train)\n",
    "    predictions = predict(dists, y_train,k)\n",
    "    \n",
    "    return predictions"
   ]
  },
  {
   "cell_type": "code",
   "execution_count": 9,
   "metadata": {},
   "outputs": [
    {
     "name": "stdout",
     "output_type": "stream",
     "text": [
      "Accuracy: 35.39 with k =  1\n",
      "[35.39]\n",
      "Accuracy: 31.15 with k =  2\n",
      "[35.39, 31.15]\n",
      "Accuracy: 33.019999999999996 with k =  3\n",
      "[35.39, 31.15, 33.019999999999996]\n",
      "Accuracy: 33.98 with k =  4\n",
      "[35.39, 31.15, 33.019999999999996, 33.98]\n",
      "Accuracy: 33.98 with k =  5\n",
      "[35.39, 31.15, 33.019999999999996, 33.98, 33.98]\n",
      "Accuracy: 34.0 with k =  6\n",
      "[35.39, 31.15, 33.019999999999996, 33.98, 33.98, 34.0]\n",
      "Accuracy: 33.58 with k =  7\n",
      "[35.39, 31.15, 33.019999999999996, 33.98, 33.98, 34.0, 33.58]\n",
      "Accuracy: 34.150000000000006 with k =  8\n",
      "[35.39, 31.15, 33.019999999999996, 33.98, 33.98, 34.0, 33.58, 34.150000000000006]\n",
      "Accuracy: 33.98 with k =  9\n",
      "[35.39, 31.15, 33.019999999999996, 33.98, 33.98, 34.0, 33.58, 34.150000000000006, 33.98]\n",
      "Accuracy: 33.86 with k =  10\n",
      "[35.39, 31.15, 33.019999999999996, 33.98, 33.98, 34.0, 33.58, 34.150000000000006, 33.98, 33.86]\n",
      "Accuracy: 34.150000000000006 with k =  11\n",
      "[35.39, 31.15, 33.019999999999996, 33.98, 33.98, 34.0, 33.58, 34.150000000000006, 33.98, 33.86, 34.150000000000006]\n",
      "Accuracy: 34.28 with k =  12\n",
      "[35.39, 31.15, 33.019999999999996, 33.98, 33.98, 34.0, 33.58, 34.150000000000006, 33.98, 33.86, 34.150000000000006, 34.28]\n",
      "Accuracy: 34.17 with k =  13\n",
      "[35.39, 31.15, 33.019999999999996, 33.98, 33.98, 34.0, 33.58, 34.150000000000006, 33.98, 33.86, 34.150000000000006, 34.28, 34.17]\n",
      "Accuracy: 34.07 with k =  14\n",
      "[35.39, 31.15, 33.019999999999996, 33.98, 33.98, 34.0, 33.58, 34.150000000000006, 33.98, 33.86, 34.150000000000006, 34.28, 34.17, 34.07]\n",
      "Accuracy: 34.050000000000004 with k =  15\n",
      "[35.39, 31.15, 33.019999999999996, 33.98, 33.98, 34.0, 33.58, 34.150000000000006, 33.98, 33.86, 34.150000000000006, 34.28, 34.17, 34.07, 34.050000000000004]\n",
      "Accuracy: 34.02 with k =  16\n",
      "[35.39, 31.15, 33.019999999999996, 33.98, 33.98, 34.0, 33.58, 34.150000000000006, 33.98, 33.86, 34.150000000000006, 34.28, 34.17, 34.07, 34.050000000000004, 34.02]\n",
      "Accuracy: 34.1 with k =  17\n",
      "[35.39, 31.15, 33.019999999999996, 33.98, 33.98, 34.0, 33.58, 34.150000000000006, 33.98, 33.86, 34.150000000000006, 34.28, 34.17, 34.07, 34.050000000000004, 34.02, 34.1]\n",
      "Accuracy: 33.900000000000006 with k =  18\n",
      "[35.39, 31.15, 33.019999999999996, 33.98, 33.98, 34.0, 33.58, 34.150000000000006, 33.98, 33.86, 34.150000000000006, 34.28, 34.17, 34.07, 34.050000000000004, 34.02, 34.1, 33.900000000000006]\n",
      "Accuracy: 33.97 with k =  19\n",
      "[35.39, 31.15, 33.019999999999996, 33.98, 33.98, 34.0, 33.58, 34.150000000000006, 33.98, 33.86, 34.150000000000006, 34.28, 34.17, 34.07, 34.050000000000004, 34.02, 34.1, 33.900000000000006, 33.97]\n",
      "Accuracy: 33.75 with k =  20\n",
      "[35.39, 31.15, 33.019999999999996, 33.98, 33.98, 34.0, 33.58, 34.150000000000006, 33.98, 33.86, 34.150000000000006, 34.28, 34.17, 34.07, 34.050000000000004, 34.02, 34.1, 33.900000000000006, 33.97, 33.75]\n",
      "Accuracy: 33.52 with k =  21\n",
      "[35.39, 31.15, 33.019999999999996, 33.98, 33.98, 34.0, 33.58, 34.150000000000006, 33.98, 33.86, 34.150000000000006, 34.28, 34.17, 34.07, 34.050000000000004, 34.02, 34.1, 33.900000000000006, 33.97, 33.75, 33.52]\n",
      "Accuracy: 33.51 with k =  22\n",
      "[35.39, 31.15, 33.019999999999996, 33.98, 33.98, 34.0, 33.58, 34.150000000000006, 33.98, 33.86, 34.150000000000006, 34.28, 34.17, 34.07, 34.050000000000004, 34.02, 34.1, 33.900000000000006, 33.97, 33.75, 33.52, 33.51]\n",
      "Accuracy: 33.489999999999995 with k =  23\n",
      "[35.39, 31.15, 33.019999999999996, 33.98, 33.98, 34.0, 33.58, 34.150000000000006, 33.98, 33.86, 34.150000000000006, 34.28, 34.17, 34.07, 34.050000000000004, 34.02, 34.1, 33.900000000000006, 33.97, 33.75, 33.52, 33.51, 33.489999999999995]\n",
      "Accuracy: 33.47 with k =  24\n",
      "[35.39, 31.15, 33.019999999999996, 33.98, 33.98, 34.0, 33.58, 34.150000000000006, 33.98, 33.86, 34.150000000000006, 34.28, 34.17, 34.07, 34.050000000000004, 34.02, 34.1, 33.900000000000006, 33.97, 33.75, 33.52, 33.51, 33.489999999999995, 33.47]\n",
      "Accuracy: 33.47 with k =  25\n",
      "[35.39, 31.15, 33.019999999999996, 33.98, 33.98, 34.0, 33.58, 34.150000000000006, 33.98, 33.86, 34.150000000000006, 34.28, 34.17, 34.07, 34.050000000000004, 34.02, 34.1, 33.900000000000006, 33.97, 33.75, 33.52, 33.51, 33.489999999999995, 33.47, 33.47]\n",
      "Accuracy: 33.489999999999995 with k =  26\n",
      "[35.39, 31.15, 33.019999999999996, 33.98, 33.98, 34.0, 33.58, 34.150000000000006, 33.98, 33.86, 34.150000000000006, 34.28, 34.17, 34.07, 34.050000000000004, 34.02, 34.1, 33.900000000000006, 33.97, 33.75, 33.52, 33.51, 33.489999999999995, 33.47, 33.47, 33.489999999999995]\n",
      "Accuracy: 33.489999999999995 with k =  27\n",
      "[35.39, 31.15, 33.019999999999996, 33.98, 33.98, 34.0, 33.58, 34.150000000000006, 33.98, 33.86, 34.150000000000006, 34.28, 34.17, 34.07, 34.050000000000004, 34.02, 34.1, 33.900000000000006, 33.97, 33.75, 33.52, 33.51, 33.489999999999995, 33.47, 33.47, 33.489999999999995, 33.489999999999995]\n",
      "Accuracy: 33.6 with k =  28\n",
      "[35.39, 31.15, 33.019999999999996, 33.98, 33.98, 34.0, 33.58, 34.150000000000006, 33.98, 33.86, 34.150000000000006, 34.28, 34.17, 34.07, 34.050000000000004, 34.02, 34.1, 33.900000000000006, 33.97, 33.75, 33.52, 33.51, 33.489999999999995, 33.47, 33.47, 33.489999999999995, 33.489999999999995, 33.6]\n",
      "Accuracy: 33.43 with k =  29\n",
      "[35.39, 31.15, 33.019999999999996, 33.98, 33.98, 34.0, 33.58, 34.150000000000006, 33.98, 33.86, 34.150000000000006, 34.28, 34.17, 34.07, 34.050000000000004, 34.02, 34.1, 33.900000000000006, 33.97, 33.75, 33.52, 33.51, 33.489999999999995, 33.47, 33.47, 33.489999999999995, 33.489999999999995, 33.6, 33.43]\n",
      "Accuracy: 33.46 with k =  30\n",
      "[35.39, 31.15, 33.019999999999996, 33.98, 33.98, 34.0, 33.58, 34.150000000000006, 33.98, 33.86, 34.150000000000006, 34.28, 34.17, 34.07, 34.050000000000004, 34.02, 34.1, 33.900000000000006, 33.97, 33.75, 33.52, 33.51, 33.489999999999995, 33.47, 33.47, 33.489999999999995, 33.489999999999995, 33.6, 33.43, 33.46]\n",
      "Accuracy: 33.46 with k =  31\n",
      "[35.39, 31.15, 33.019999999999996, 33.98, 33.98, 34.0, 33.58, 34.150000000000006, 33.98, 33.86, 34.150000000000006, 34.28, 34.17, 34.07, 34.050000000000004, 34.02, 34.1, 33.900000000000006, 33.97, 33.75, 33.52, 33.51, 33.489999999999995, 33.47, 33.47, 33.489999999999995, 33.489999999999995, 33.6, 33.43, 33.46, 33.46]\n",
      "Accuracy: 33.36 with k =  32\n",
      "[35.39, 31.15, 33.019999999999996, 33.98, 33.98, 34.0, 33.58, 34.150000000000006, 33.98, 33.86, 34.150000000000006, 34.28, 34.17, 34.07, 34.050000000000004, 34.02, 34.1, 33.900000000000006, 33.97, 33.75, 33.52, 33.51, 33.489999999999995, 33.47, 33.47, 33.489999999999995, 33.489999999999995, 33.6, 33.43, 33.46, 33.46, 33.36]\n",
      "Accuracy: 33.51 with k =  33\n",
      "[35.39, 31.15, 33.019999999999996, 33.98, 33.98, 34.0, 33.58, 34.150000000000006, 33.98, 33.86, 34.150000000000006, 34.28, 34.17, 34.07, 34.050000000000004, 34.02, 34.1, 33.900000000000006, 33.97, 33.75, 33.52, 33.51, 33.489999999999995, 33.47, 33.47, 33.489999999999995, 33.489999999999995, 33.6, 33.43, 33.46, 33.46, 33.36, 33.51]\n",
      "Accuracy: 33.15 with k =  34\n",
      "[35.39, 31.15, 33.019999999999996, 33.98, 33.98, 34.0, 33.58, 34.150000000000006, 33.98, 33.86, 34.150000000000006, 34.28, 34.17, 34.07, 34.050000000000004, 34.02, 34.1, 33.900000000000006, 33.97, 33.75, 33.52, 33.51, 33.489999999999995, 33.47, 33.47, 33.489999999999995, 33.489999999999995, 33.6, 33.43, 33.46, 33.46, 33.36, 33.51, 33.15]\n",
      "Accuracy: 33.050000000000004 with k =  35\n",
      "[35.39, 31.15, 33.019999999999996, 33.98, 33.98, 34.0, 33.58, 34.150000000000006, 33.98, 33.86, 34.150000000000006, 34.28, 34.17, 34.07, 34.050000000000004, 34.02, 34.1, 33.900000000000006, 33.97, 33.75, 33.52, 33.51, 33.489999999999995, 33.47, 33.47, 33.489999999999995, 33.489999999999995, 33.6, 33.43, 33.46, 33.46, 33.36, 33.51, 33.15, 33.050000000000004]\n",
      "Accuracy: 33.129999999999995 with k =  36\n",
      "[35.39, 31.15, 33.019999999999996, 33.98, 33.98, 34.0, 33.58, 34.150000000000006, 33.98, 33.86, 34.150000000000006, 34.28, 34.17, 34.07, 34.050000000000004, 34.02, 34.1, 33.900000000000006, 33.97, 33.75, 33.52, 33.51, 33.489999999999995, 33.47, 33.47, 33.489999999999995, 33.489999999999995, 33.6, 33.43, 33.46, 33.46, 33.36, 33.51, 33.15, 33.050000000000004, 33.129999999999995]\n",
      "Accuracy: 33.19 with k =  37\n",
      "[35.39, 31.15, 33.019999999999996, 33.98, 33.98, 34.0, 33.58, 34.150000000000006, 33.98, 33.86, 34.150000000000006, 34.28, 34.17, 34.07, 34.050000000000004, 34.02, 34.1, 33.900000000000006, 33.97, 33.75, 33.52, 33.51, 33.489999999999995, 33.47, 33.47, 33.489999999999995, 33.489999999999995, 33.6, 33.43, 33.46, 33.46, 33.36, 33.51, 33.15, 33.050000000000004, 33.129999999999995, 33.19]\n"
     ]
    },
    {
     "name": "stdout",
     "output_type": "stream",
     "text": [
      "Accuracy: 33.18 with k =  38\n",
      "[35.39, 31.15, 33.019999999999996, 33.98, 33.98, 34.0, 33.58, 34.150000000000006, 33.98, 33.86, 34.150000000000006, 34.28, 34.17, 34.07, 34.050000000000004, 34.02, 34.1, 33.900000000000006, 33.97, 33.75, 33.52, 33.51, 33.489999999999995, 33.47, 33.47, 33.489999999999995, 33.489999999999995, 33.6, 33.43, 33.46, 33.46, 33.36, 33.51, 33.15, 33.050000000000004, 33.129999999999995, 33.19, 33.18]\n",
      "Accuracy: 33.1 with k =  39\n",
      "[35.39, 31.15, 33.019999999999996, 33.98, 33.98, 34.0, 33.58, 34.150000000000006, 33.98, 33.86, 34.150000000000006, 34.28, 34.17, 34.07, 34.050000000000004, 34.02, 34.1, 33.900000000000006, 33.97, 33.75, 33.52, 33.51, 33.489999999999995, 33.47, 33.47, 33.489999999999995, 33.489999999999995, 33.6, 33.43, 33.46, 33.46, 33.36, 33.51, 33.15, 33.050000000000004, 33.129999999999995, 33.19, 33.18, 33.1]\n",
      "Accuracy: 33.0 with k =  40\n",
      "[35.39, 31.15, 33.019999999999996, 33.98, 33.98, 34.0, 33.58, 34.150000000000006, 33.98, 33.86, 34.150000000000006, 34.28, 34.17, 34.07, 34.050000000000004, 34.02, 34.1, 33.900000000000006, 33.97, 33.75, 33.52, 33.51, 33.489999999999995, 33.47, 33.47, 33.489999999999995, 33.489999999999995, 33.6, 33.43, 33.46, 33.46, 33.36, 33.51, 33.15, 33.050000000000004, 33.129999999999995, 33.19, 33.18, 33.1, 33.0]\n",
      "Accuracy: 32.85 with k =  41\n",
      "[35.39, 31.15, 33.019999999999996, 33.98, 33.98, 34.0, 33.58, 34.150000000000006, 33.98, 33.86, 34.150000000000006, 34.28, 34.17, 34.07, 34.050000000000004, 34.02, 34.1, 33.900000000000006, 33.97, 33.75, 33.52, 33.51, 33.489999999999995, 33.47, 33.47, 33.489999999999995, 33.489999999999995, 33.6, 33.43, 33.46, 33.46, 33.36, 33.51, 33.15, 33.050000000000004, 33.129999999999995, 33.19, 33.18, 33.1, 33.0, 32.85]\n",
      "Accuracy: 32.62 with k =  42\n",
      "[35.39, 31.15, 33.019999999999996, 33.98, 33.98, 34.0, 33.58, 34.150000000000006, 33.98, 33.86, 34.150000000000006, 34.28, 34.17, 34.07, 34.050000000000004, 34.02, 34.1, 33.900000000000006, 33.97, 33.75, 33.52, 33.51, 33.489999999999995, 33.47, 33.47, 33.489999999999995, 33.489999999999995, 33.6, 33.43, 33.46, 33.46, 33.36, 33.51, 33.15, 33.050000000000004, 33.129999999999995, 33.19, 33.18, 33.1, 33.0, 32.85, 32.62]\n",
      "Accuracy: 32.6 with k =  43\n",
      "[35.39, 31.15, 33.019999999999996, 33.98, 33.98, 34.0, 33.58, 34.150000000000006, 33.98, 33.86, 34.150000000000006, 34.28, 34.17, 34.07, 34.050000000000004, 34.02, 34.1, 33.900000000000006, 33.97, 33.75, 33.52, 33.51, 33.489999999999995, 33.47, 33.47, 33.489999999999995, 33.489999999999995, 33.6, 33.43, 33.46, 33.46, 33.36, 33.51, 33.15, 33.050000000000004, 33.129999999999995, 33.19, 33.18, 33.1, 33.0, 32.85, 32.62, 32.6]\n",
      "Accuracy: 32.73 with k =  44\n",
      "[35.39, 31.15, 33.019999999999996, 33.98, 33.98, 34.0, 33.58, 34.150000000000006, 33.98, 33.86, 34.150000000000006, 34.28, 34.17, 34.07, 34.050000000000004, 34.02, 34.1, 33.900000000000006, 33.97, 33.75, 33.52, 33.51, 33.489999999999995, 33.47, 33.47, 33.489999999999995, 33.489999999999995, 33.6, 33.43, 33.46, 33.46, 33.36, 33.51, 33.15, 33.050000000000004, 33.129999999999995, 33.19, 33.18, 33.1, 33.0, 32.85, 32.62, 32.6, 32.73]\n",
      "Accuracy: 32.59 with k =  45\n",
      "[35.39, 31.15, 33.019999999999996, 33.98, 33.98, 34.0, 33.58, 34.150000000000006, 33.98, 33.86, 34.150000000000006, 34.28, 34.17, 34.07, 34.050000000000004, 34.02, 34.1, 33.900000000000006, 33.97, 33.75, 33.52, 33.51, 33.489999999999995, 33.47, 33.47, 33.489999999999995, 33.489999999999995, 33.6, 33.43, 33.46, 33.46, 33.36, 33.51, 33.15, 33.050000000000004, 33.129999999999995, 33.19, 33.18, 33.1, 33.0, 32.85, 32.62, 32.6, 32.73, 32.59]\n",
      "Accuracy: 32.65 with k =  46\n",
      "[35.39, 31.15, 33.019999999999996, 33.98, 33.98, 34.0, 33.58, 34.150000000000006, 33.98, 33.86, 34.150000000000006, 34.28, 34.17, 34.07, 34.050000000000004, 34.02, 34.1, 33.900000000000006, 33.97, 33.75, 33.52, 33.51, 33.489999999999995, 33.47, 33.47, 33.489999999999995, 33.489999999999995, 33.6, 33.43, 33.46, 33.46, 33.36, 33.51, 33.15, 33.050000000000004, 33.129999999999995, 33.19, 33.18, 33.1, 33.0, 32.85, 32.62, 32.6, 32.73, 32.59, 32.65]\n",
      "Accuracy: 32.46 with k =  47\n",
      "[35.39, 31.15, 33.019999999999996, 33.98, 33.98, 34.0, 33.58, 34.150000000000006, 33.98, 33.86, 34.150000000000006, 34.28, 34.17, 34.07, 34.050000000000004, 34.02, 34.1, 33.900000000000006, 33.97, 33.75, 33.52, 33.51, 33.489999999999995, 33.47, 33.47, 33.489999999999995, 33.489999999999995, 33.6, 33.43, 33.46, 33.46, 33.36, 33.51, 33.15, 33.050000000000004, 33.129999999999995, 33.19, 33.18, 33.1, 33.0, 32.85, 32.62, 32.6, 32.73, 32.59, 32.65, 32.46]\n",
      "Accuracy: 32.42 with k =  48\n",
      "[35.39, 31.15, 33.019999999999996, 33.98, 33.98, 34.0, 33.58, 34.150000000000006, 33.98, 33.86, 34.150000000000006, 34.28, 34.17, 34.07, 34.050000000000004, 34.02, 34.1, 33.900000000000006, 33.97, 33.75, 33.52, 33.51, 33.489999999999995, 33.47, 33.47, 33.489999999999995, 33.489999999999995, 33.6, 33.43, 33.46, 33.46, 33.36, 33.51, 33.15, 33.050000000000004, 33.129999999999995, 33.19, 33.18, 33.1, 33.0, 32.85, 32.62, 32.6, 32.73, 32.59, 32.65, 32.46, 32.42]\n",
      "Accuracy: 32.46 with k =  49\n",
      "[35.39, 31.15, 33.019999999999996, 33.98, 33.98, 34.0, 33.58, 34.150000000000006, 33.98, 33.86, 34.150000000000006, 34.28, 34.17, 34.07, 34.050000000000004, 34.02, 34.1, 33.900000000000006, 33.97, 33.75, 33.52, 33.51, 33.489999999999995, 33.47, 33.47, 33.489999999999995, 33.489999999999995, 33.6, 33.43, 33.46, 33.46, 33.36, 33.51, 33.15, 33.050000000000004, 33.129999999999995, 33.19, 33.18, 33.1, 33.0, 32.85, 32.62, 32.6, 32.73, 32.59, 32.65, 32.46, 32.42, 32.46]\n"
     ]
    }
   ],
   "source": [
    "# With training data = 50,000\n",
    "\n",
    "from sklearn.metrics import accuracy_score\n",
    "\n",
    "X_train, y_train, X_test, y_test = pre_process_data()\n",
    "accuracy_list = []\n",
    "k_list = [i for i in range(1,50)]\n",
    "\n",
    "for i in k_list:\n",
    "\n",
    "    predictions = k_nearest_neighbor(X_train, y_train, X_test, i)\n",
    "\n",
    "    accuracy = accuracy_score(y_test, predictions) * 100\n",
    "    print(\"Accuracy: {}\".format(accuracy) , \"with k = \" , str(i))\n",
    "    accuracy_list.append(accuracy)\n",
    "#     print(accuracy_list)"
   ]
  },
  {
   "cell_type": "code",
   "execution_count": 54,
   "metadata": {},
   "outputs": [
    {
     "data": {
      "image/png": "[encoded data removed]",
      "text/plain": [
       "<Figure size 432x288 with 1 Axes>"
      ]
     },
     "metadata": {
      "needs_background": "light"
     },
     "output_type": "display_data"
    },
    {
     "data": {
      "text/plain": [
       "<Figure size 432x288 with 0 Axes>"
      ]
     },
     "metadata": {},
     "output_type": "display_data"
    }
   ],
   "source": [
    "# With all the data\n",
    "plt.plot(k_list, a_full)\n",
    "plt.xlabel('K')\n",
    "plt.ylabel('Accuracy')\n",
    "plt.title('Accuracy vs. K Nearest Neighbors')\n",
    "plt.show()\n",
    "plt.savefig('Acc_vs_K.png')"
   ]
  },
  {
   "cell_type": "code",
   "execution_count": 43,
   "metadata": {},
   "outputs": [],
   "source": [
    "a_full = [35.39, 31.15, 33.02, 33.98, 33.98, 34.00, 33.58, 34.15,\n",
    " 33.98, 33.86, 34.15, 34.28, 34.17, 34.07, 34.05, 34.02,\n",
    " 34.10, 33.90, 33.97, 33.75, 33.52, 33.51, 33.49, 33.47,\n",
    " 33.47, 33.49, 33.49, 33.60, 33.43, 33.46, 33.46, 33.36,\n",
    " 33.51, 33.15, 33.05, 33.13, 33.19, 33.18, 33.10, 33.00,\n",
    " 32.85, 32.62, 32.60, 32.73, 32.59, 32.65, 32.46, 32.42, 32.46]"
   ]
  },
  {
   "cell_type": "code",
   "execution_count": 44,
   "metadata": {},
   "outputs": [
    {
     "data": {
      "text/html": [
       "<div>\n",
       "<style scoped>\n",
       "    .dataframe tbody tr th:only-of-type {\n",
       "        vertical-align: middle;\n",
       "    }\n",
       "\n",
       "    .dataframe tbody tr th {\n",
       "        vertical-align: top;\n",
       "    }\n",
       "\n",
       "    .dataframe thead th {\n",
       "        text-align: right;\n",
       "    }\n",
       "</style>\n",
       "<table border=\"1\" class=\"dataframe\">\n",
       "  <thead>\n",
       "    <tr style=\"text-align: right;\">\n",
       "      <th></th>\n",
       "      <th>K</th>\n",
       "      <th>Accuracy</th>\n",
       "    </tr>\n",
       "  </thead>\n",
       "  <tbody>\n",
       "    <tr>\n",
       "      <th>0</th>\n",
       "      <td>1</td>\n",
       "      <td>35.39</td>\n",
       "    </tr>\n",
       "    <tr>\n",
       "      <th>1</th>\n",
       "      <td>3</td>\n",
       "      <td>33.02</td>\n",
       "    </tr>\n",
       "    <tr>\n",
       "      <th>2</th>\n",
       "      <td>5</td>\n",
       "      <td>33.98</td>\n",
       "    </tr>\n",
       "    <tr>\n",
       "      <th>3</th>\n",
       "      <td>7</td>\n",
       "      <td>33.58</td>\n",
       "    </tr>\n",
       "    <tr>\n",
       "      <th>4</th>\n",
       "      <td>9</td>\n",
       "      <td>33.98</td>\n",
       "    </tr>\n",
       "  </tbody>\n",
       "</table>\n",
       "</div>"
      ],
      "text/plain": [
       "   K  Accuracy\n",
       "0  1     35.39\n",
       "1  3     33.02\n",
       "2  5     33.98\n",
       "3  7     33.58\n",
       "4  9     33.98"
      ]
     },
     "execution_count": 44,
     "metadata": {},
     "output_type": "execute_result"
    }
   ],
   "source": [
    "d = {'K': [k_list[0],k_list[2],k_list[4],k_list[6],k_list[8]],\n",
    "     'Accuracy': [a_full[0],a_full[2],a_full[4],a_full[6],a_full[8]]}\n",
    "df = pd.DataFrame(data=d)\n",
    "df"
   ]
  },
  {
   "cell_type": "code",
   "execution_count": 55,
   "metadata": {},
   "outputs": [
    {
     "name": "stdout",
     "output_type": "stream",
     "text": [
      "Accuracy: 31.97 with k =  1\n",
      "[31.97]\n",
      "Accuracy: 31.209999999999997 with k =  3\n",
      "[31.97, 31.209999999999997]\n",
      "Accuracy: 32.43 with k =  5\n",
      "[31.97, 31.209999999999997, 32.43]\n",
      "Accuracy: 32.01 with k =  7\n",
      "[31.97, 31.209999999999997, 32.43, 32.01]\n",
      "Accuracy: 32.42 with k =  9\n",
      "[31.97, 31.209999999999997, 32.43, 32.01, 32.42]\n"
     ]
    }
   ],
   "source": [
    "# With training data = 25,000\n",
    "\n",
    "from sklearn.metrics import accuracy_score\n",
    "\n",
    "X_train, y_train, X_test, y_test = pre_process_data(num_train=25000, num_test=10000)\n",
    "accuracy_list = []\n",
    "k_list = [i for i in range(1,10,2)]\n",
    "\n",
    "for i in k_list:\n",
    "    \n",
    "    # making predictions\n",
    "    predictions = k_nearest_neighbor(X_train, y_train, X_test, i)\n",
    "\n",
    "    # evaluating accuracy\n",
    "    accuracy = accuracy_score(y_test, predictions) * 100\n",
    "    print(\"Accuracy: {}\".format(accuracy) , \"with k = \" , str(i))\n",
    "    accuracy_list.append(accuracy)\n",
    "#     print(accuracy_list)"
   ]
  },
  {
   "cell_type": "code",
   "execution_count": 60,
   "metadata": {},
   "outputs": [
    {
     "data": {
      "text/html": [
       "<div>\n",
       "<style scoped>\n",
       "    .dataframe tbody tr th:only-of-type {\n",
       "        vertical-align: middle;\n",
       "    }\n",
       "\n",
       "    .dataframe tbody tr th {\n",
       "        vertical-align: top;\n",
       "    }\n",
       "\n",
       "    .dataframe thead th {\n",
       "        text-align: right;\n",
       "    }\n",
       "</style>\n",
       "<table border=\"1\" class=\"dataframe\">\n",
       "  <thead>\n",
       "    <tr style=\"text-align: right;\">\n",
       "      <th></th>\n",
       "      <th>K</th>\n",
       "      <th>Accuracy</th>\n",
       "    </tr>\n",
       "  </thead>\n",
       "  <tbody>\n",
       "    <tr>\n",
       "      <th>0</th>\n",
       "      <td>1</td>\n",
       "      <td>31.97</td>\n",
       "    </tr>\n",
       "    <tr>\n",
       "      <th>1</th>\n",
       "      <td>3</td>\n",
       "      <td>31.21</td>\n",
       "    </tr>\n",
       "    <tr>\n",
       "      <th>2</th>\n",
       "      <td>5</td>\n",
       "      <td>32.43</td>\n",
       "    </tr>\n",
       "    <tr>\n",
       "      <th>3</th>\n",
       "      <td>7</td>\n",
       "      <td>32.01</td>\n",
       "    </tr>\n",
       "    <tr>\n",
       "      <th>4</th>\n",
       "      <td>9</td>\n",
       "      <td>32.42</td>\n",
       "    </tr>\n",
       "  </tbody>\n",
       "</table>\n",
       "</div>"
      ],
      "text/plain": [
       "   K  Accuracy\n",
       "0  1     31.97\n",
       "1  3     31.21\n",
       "2  5     32.43\n",
       "3  7     32.01\n",
       "4  9     32.42"
      ]
     },
     "execution_count": 60,
     "metadata": {},
     "output_type": "execute_result"
    }
   ],
   "source": [
    "d2 = {'K': k_list, 'Accuracy': accuracy_list}\n",
    "df2 = pd.DataFrame(data=d2)\n",
    "\n",
    "df2"
   ]
  },
  {
   "cell_type": "code",
   "execution_count": 9,
   "metadata": {},
   "outputs": [
    {
     "name": "stdout",
     "output_type": "stream",
     "text": [
      "Accuracy: 35.39 with k =  1\n",
      "[35.39]\n",
      "Accuracy: 33.019999999999996 with k =  3\n",
      "[35.39, 33.019999999999996]\n",
      "Accuracy: 33.98 with k =  5\n",
      "[35.39, 33.019999999999996, 33.98]\n",
      "Accuracy: 33.58 with k =  7\n",
      "[35.39, 33.019999999999996, 33.98, 33.58]\n",
      "Accuracy: 33.98 with k =  9\n",
      "[35.39, 33.019999999999996, 33.98, 33.58, 33.98]\n"
     ]
    }
   ],
   "source": [
    "# With training data = 50,000\n",
    "\n",
    "from sklearn.metrics import accuracy_score\n",
    "\n",
    "X_train, y_train, X_test, y_test = pre_process_data(num_train=50000, num_test=10000)\n",
    "accuracy_list = []\n",
    "k_list = [i for i in range(1,10,2)]\n",
    "\n",
    "for i in k_list:\n",
    "    \n",
    "    # making predictions\n",
    "    predictions = k_nearest_neighbor(X_train, y_train, X_test, i)\n",
    "\n",
    "    # evaluating accuracy\n",
    "    accuracy = accuracy_score(y_test, predictions) * 100\n",
    "    print(\"Accuracy: {}\".format(accuracy) , \"with k = \" , str(i))\n",
    "    accuracy_list.append(accuracy)\n",
    "    print(accuracy_list)"
   ]
  }
 ],
 "metadata": {
  "kernelspec": {
   "display_name": "Python 3",
   "language": "python",
   "name": "python3"
  },
  "language_info": {
   "codemirror_mode": {
    "name": "ipython",
    "version": 3
   },
   "file_extension": ".py",
   "mimetype": "text/x-python",
   "name": "python",
   "nbconvert_exporter": "python",
   "pygments_lexer": "ipython3",
   "version": "3.7.4"
  }
 },
 "nbformat": 4,
 "nbformat_minor": 2
}
